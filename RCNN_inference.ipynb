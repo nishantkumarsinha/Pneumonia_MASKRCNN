{
 "cells": [
  {
   "cell_type": "code",
   "execution_count": 1,
   "metadata": {},
   "outputs": [],
   "source": [
    "import os \n",
    "import sys\n",
    "import random\n",
    "import math\n",
    "import numpy as np\n",
    "import cv2\n",
    "import matplotlib.pyplot as plt\n",
    "import pydicom\n",
    "ROOT_DIR = ''\n",
    "#os.chdir('Mask_RCNN')\n"
   ]
  },
  {
   "cell_type": "code",
   "execution_count": 2,
   "metadata": {},
   "outputs": [
    {
     "name": "stderr",
     "output_type": "stream",
     "text": [
      "Using TensorFlow backend.\n"
     ]
    }
   ],
   "source": [
    "\n",
    "import glob\n",
    "from mrcnn.config import Config\n",
    "from mrcnn import utils\n",
    "import mrcnn.model as modellib\n",
    "from mrcnn import visualize\n",
    "from mrcnn.model import log\n",
    "import warnings \n",
    "warnings.filterwarnings(\"ignore\")\n"
   ]
  },
  {
   "cell_type": "code",
   "execution_count": 3,
   "metadata": {},
   "outputs": [],
   "source": [
    "# DATA_DIR = 'Mask_RCNN/data'\n",
    "# train_dicom_dir = os.path.join(DATA_DIR, 'stage_2_train_images')\n",
    "# test_dicom_dir = os.path.join(DATA_DIR, 'stage_2_test_images')"
   ]
  },
  {
   "cell_type": "code",
   "execution_count": 4,
   "metadata": {},
   "outputs": [],
   "source": [
    "\n",
    "\n",
    "def get_dicom_fps(dicom_dir):\n",
    "    dicom_fps = glob.glob(dicom_dir+'/'+'*.dcm')\n",
    "    return list(set(dicom_fps))\n",
    "\n",
    "def parse_dataset(dicom_dir, anns): \n",
    "    image_fps = get_dicom_fps(dicom_dir)\n",
    "    image_annotations = {fp: [] for fp in image_fps}\n",
    "    for index, row in anns.iterrows(): \n",
    "        fp = os.path.join(dicom_dir, row['patientId']+'.dcm')\n",
    "        image_annotations[fp].append(row)\n",
    "    return image_fps, image_annotations \n",
    "\n"
   ]
  },
  {
   "cell_type": "code",
   "execution_count": 5,
   "metadata": {},
   "outputs": [],
   "source": [
    "class DetectorConfig(Config):\n",
    "    \"\"\"Configuration for training pneumonia detection on the RSNA pneumonia dataset.\n",
    "    Overrides values in the base Config class.\n",
    "    \"\"\"\n",
    "    \n",
    "    # Give the configuration a recognizable name  \n",
    "    NAME = 'pneumonia'\n",
    "    \n",
    "    # Train on 1 GPU and 8 images per GPU. We can put multiple images on each\n",
    "    # GPU because the images are small. Batch size is 8 (GPUs * images/GPU).\n",
    "    GPU_COUNT = 1\n",
    "    IMAGES_PER_GPU = 8\n",
    "    \n",
    "    BACKBONE = 'resnet50'\n",
    "    \n",
    "    NUM_CLASSES = 2  # background + 1 pneumonia classes\n",
    "    \n",
    "    IMAGE_MIN_DIM = 256\n",
    "    IMAGE_MAX_DIM = 256\n",
    "    RPN_ANCHOR_SCALES = (16, 32, 64, 128)\n",
    "    TRAIN_ROIS_PER_IMAGE = 32\n",
    "    MAX_GT_INSTANCES = 4\n",
    "    DETECTION_MAX_INSTANCES = 3\n",
    "    DETECTION_MIN_CONFIDENCE = 0.78  ## match target distribution\n",
    "    DETECTION_NMS_THRESHOLD = 0.01\n",
    "\n",
    "    STEPS_PER_EPOCH = 200\n",
    "\n",
    "config = DetectorConfig()\n"
   ]
  },
  {
   "cell_type": "code",
   "execution_count": 6,
   "metadata": {},
   "outputs": [],
   "source": [
    "\n",
    "# set color for class\n",
    "def get_colors_for_class_ids(class_ids):\n",
    "    colors = []\n",
    "    for class_id in class_ids:\n",
    "        if class_id == 1:\n",
    "            colors.append((.941, .204, .204))\n",
    "    return colors"
   ]
  },
  {
   "cell_type": "code",
   "execution_count": 7,
   "metadata": {},
   "outputs": [
    {
     "name": "stdout",
     "output_type": "stream",
     "text": [
      "WARNING:tensorflow:From /home/sahand/anaconda3/envs/rcnn_test/lib/python3.7/site-packages/tensorflow_core/python/ops/resource_variable_ops.py:1630: calling BaseResourceVariable.__init__ (from tensorflow.python.ops.resource_variable_ops) with constraint is deprecated and will be removed in a future version.\n",
      "Instructions for updating:\n",
      "If using Keras pass *_constraint arguments to layers.\n",
      "WARNING:tensorflow:From /home/sahand/anaconda3/envs/rcnn_test/lib/python3.7/site-packages/keras/backend/tensorflow_backend.py:4070: The name tf.nn.max_pool is deprecated. Please use tf.nn.max_pool2d instead.\n",
      "\n",
      "WARNING:tensorflow:From /home/sahand/anaconda3/envs/rcnn_test/lib/python3.7/site-packages/mask_rcnn-2.1-py3.7.egg/mrcnn/model.py:341: The name tf.log is deprecated. Please use tf.math.log instead.\n",
      "\n",
      "WARNING:tensorflow:From /home/sahand/anaconda3/envs/rcnn_test/lib/python3.7/site-packages/mask_rcnn-2.1-py3.7.egg/mrcnn/model.py:399: where (from tensorflow.python.ops.array_ops) is deprecated and will be removed in a future version.\n",
      "Instructions for updating:\n",
      "Use tf.where in 2.0, which has the same broadcast rule as np.where\n",
      "WARNING:tensorflow:From /home/sahand/anaconda3/envs/rcnn_test/lib/python3.7/site-packages/mask_rcnn-2.1-py3.7.egg/mrcnn/model.py:423: calling crop_and_resize_v1 (from tensorflow.python.ops.image_ops_impl) with box_ind is deprecated and will be removed in a future version.\n",
      "Instructions for updating:\n",
      "box_ind is deprecated, use box_indices instead\n",
      "WARNING:tensorflow:From /home/sahand/anaconda3/envs/rcnn_test/lib/python3.7/site-packages/mask_rcnn-2.1-py3.7.egg/mrcnn/model.py:720: The name tf.sets.set_intersection is deprecated. Please use tf.sets.intersection instead.\n",
      "\n",
      "WARNING:tensorflow:From /home/sahand/anaconda3/envs/rcnn_test/lib/python3.7/site-packages/mask_rcnn-2.1-py3.7.egg/mrcnn/model.py:722: The name tf.sparse_tensor_to_dense is deprecated. Please use tf.sparse.to_dense instead.\n",
      "\n",
      "WARNING:tensorflow:From /home/sahand/anaconda3/envs/rcnn_test/lib/python3.7/site-packages/mask_rcnn-2.1-py3.7.egg/mrcnn/model.py:772: to_float (from tensorflow.python.ops.math_ops) is deprecated and will be removed in a future version.\n",
      "Instructions for updating:\n",
      "Use `tf.cast` instead.\n",
      "Loading weights from  weights/mask_rcnn_pneumonia_0010.h5\n"
     ]
    }
   ],
   "source": [
    "\n",
    "import warnings \n",
    "warnings.filterwarnings(\"ignore\")\n",
    "\n",
    "\n",
    "class InferenceConfig(DetectorConfig):\n",
    "    GPU_COUNT = 1\n",
    "    IMAGES_PER_GPU = 1\n",
    "\n",
    "inference_config = InferenceConfig()\n",
    "\n",
    "# Recreate the model in inference mode\n",
    "model = modellib.MaskRCNN(mode='inference', \n",
    "                          config=inference_config,\n",
    "                          model_dir=ROOT_DIR)\n",
    "\n",
    "# Load trained weights (fill in path to trained weights here)\n",
    "model_path = \"weights/mask_rcnn_pneumonia_0010.h5\"\n",
    "print(\"Loading weights from \", model_path)\n",
    "model.load_weights(model_path, by_name=True)"
   ]
  },
  {
   "cell_type": "code",
   "execution_count": 8,
   "metadata": {},
   "outputs": [],
   "source": [
    "import colorsys\n",
    "hsv = [(i / 2, 1, 1.0) for i in range(2)]\n",
    "\n",
    "COLORS = list(map(lambda c: colorsys.hsv_to_rgb(*c), hsv))\n",
    "random.shuffle(COLORS)"
   ]
  },
  {
   "cell_type": "code",
   "execution_count": 9,
   "metadata": {},
   "outputs": [
    {
     "data": {
      "text/plain": [
       "[(1.0, 0.0, 0.0), (0.0, 1.0, 1.0)]"
      ]
     },
     "execution_count": 9,
     "metadata": {},
     "output_type": "execute_result"
    }
   ],
   "source": [
    "COLORS"
   ]
  },
  {
   "cell_type": "code",
   "execution_count": 10,
   "metadata": {},
   "outputs": [],
   "source": [
    "#test_image_fps = get_dicom_fps(test_dicom_dir)\n",
    "def predict(ORIG_SIZE = 1024): \n",
    "    #image_id = random.choice(test_image_fps)\n",
    "    image_id = 'uploads/c121b434-a3cf-415b-9229-0ec10a66d6be.dcm'\n",
    "    ds = pydicom.read_file(image_id)\n",
    "    \n",
    "    # original image \n",
    "    image = ds.pixel_array\n",
    "    \n",
    "    # assume square image \n",
    "    resize_factor = ORIG_SIZE / config.IMAGE_SHAPE[0]\n",
    "    \n",
    "    # If grayscale. Convert to RGB for consistency.\n",
    "    if len(image.shape) != 3 or image.shape[2] != 3:\n",
    "        image = np.stack((image,) * 3, -1) \n",
    "    resized_image, window, scale, padding, crop = utils.resize_image(\n",
    "        image,\n",
    "        min_dim=config.IMAGE_MIN_DIM,\n",
    "        min_scale=config.IMAGE_MIN_SCALE,\n",
    "        max_dim=config.IMAGE_MAX_DIM,\n",
    "        mode=config.IMAGE_RESIZE_MODE)\n",
    "\n",
    "    patient_id = os.path.splitext(os.path.basename(image_id))[0]\n",
    "\n",
    "    results = model.detect([resized_image])\n",
    "    r = results[0]\n",
    "    \n",
    "    color = (1.0, 0.0, 0.0)\n",
    "    for bbox in r['rois']: \n",
    "        print(bbox)\n",
    "        x1 = int(bbox[1] * resize_factor)\n",
    "        y1 = int(bbox[0] * resize_factor)\n",
    "        x2 = int(bbox[3] * resize_factor)\n",
    "        y2 = int(bbox[2]  * resize_factor)\n",
    "        cv2.rectangle(image, (x1,y1), (x2,y2), (77, 255, 9), 3, 1)\n",
    "        \n",
    "        x_ = x1\n",
    "        y_ = y1-20\n",
    "        x_1 = x1\n",
    "        y_1= y1-40\n",
    "        cv2.putText(image, 'Pneumonia', (x_, y_), cv2.FONT_HERSHEY_SIMPLEX,\n",
    "        0.6, color, 5)\n",
    "        \n",
    "#         cv2.putText(image, r['scores'][0], (x_1, y_1), cv2.FONT_HERSHEY_SIMPLEX,\n",
    "#         0.6, color, 5)\n",
    "\n",
    "        print(r['scores'][1])\n",
    "        width = x2 - x1 \n",
    "        height = y2 - y1 \n",
    "        #plt.figure() \n",
    "    #plt.imshow(image, cmap=plt.cm.gist_gray)\n",
    "    \n",
    "    file_name = '{}_detected.png'.format(image_id.split(\".dicom\")[0])\n",
    "\n",
    "    return results[0]['scores'], file_name, image\n",
    "    #return results\n",
    "#visualize()"
   ]
  },
  {
   "cell_type": "code",
   "execution_count": 41,
   "metadata": {},
   "outputs": [],
   "source": [
    "def predict(ORIG_SIZE = 1024): \n",
    "    #image_id = random.choice(test_image_fps)\n",
    "    image_id = 'uploads/c121b434-a3cf-415b-9229-0ec10a66d6be.dcm'\n",
    "    ds = pydicom.read_file(image_id)\n",
    "    \n",
    "    # original image \n",
    "    image = ds.pixel_array\n",
    "    \n",
    "    # assume square image \n",
    "    resize_factor = ORIG_SIZE / config.IMAGE_SHAPE[0]\n",
    "    \n",
    "    # If grayscale. Convert to RGB for consistency.\n",
    "    if len(image.shape) != 3 or image.shape[2] != 3:\n",
    "        image = np.stack((image,) * 3, -1) \n",
    "    resized_image, window, scale, padding, crop = utils.resize_image(\n",
    "        image,\n",
    "        min_dim=config.IMAGE_MIN_DIM,\n",
    "        min_scale=config.IMAGE_MIN_SCALE,\n",
    "        max_dim=config.IMAGE_MAX_DIM,\n",
    "        mode=config.IMAGE_RESIZE_MODE)\n",
    "\n",
    "    patient_id = os.path.splitext(os.path.basename(image_id))[0]\n",
    "\n",
    "    results = model.detect([resized_image])\n",
    "    r = results[0]\n",
    "    font = cv2.FONT_HERSHEY_SIMPLEX \n",
    "    \n",
    "    # org \n",
    "    org = (50, 50) \n",
    "    \n",
    "    # fontScale \n",
    "    fontScale = 1\n",
    "    \n",
    "  \n",
    "    color = (51,255, 51)\n",
    "    mask_color = (102,178,255)\n",
    "    # Line thickness of 2 px \n",
    "    thickness = 2\n",
    "    for i in range(len(r['rois'])):\n",
    "        print(image.shape)\n",
    "        mask = r[\"masks\"][:, :, i]\n",
    "\n",
    "        image = visualize.apply_mask(resized_image, mask, color =mask_color, alpha=0.003)\n",
    "    \n",
    "    \n",
    "    image = cv2.resize(image, (1024,1024), cv2.INTER_LINEAR)\n",
    "    print(image.shape)\n",
    "\n",
    "    for i in range(len(r['rois'])): \n",
    "\n",
    "        x1 = int(r['rois'][i][1] * resize_factor)\n",
    "        y1 = int(r['rois'][i][0] * resize_factor)\n",
    "        x2 = int(r['rois'][i][3] * resize_factor)\n",
    "        y2 = int(r['rois'][i][2]  * resize_factor)\n",
    "        \n",
    "        mask = r[\"masks\"][:, :, i]\n",
    "        \n",
    "\n",
    "        cv2.rectangle(image, (x1,y1), (x2,y2), (77, 255, 9), 3, 1)\n",
    "        \n",
    "        x_ = x1\n",
    "        y_ = y1-40\n",
    "        x_1 = x1\n",
    "        y_1= y1-80\n",
    "        cv2.putText(image, 'Detected Pneumonia', (x_, y_), cv2.FONT_HERSHEY_SIMPLEX,\n",
    "        fontScale, color, thickness, cv2.LINE_AA)\n",
    "        \n",
    "        cv2.putText(image, 'confidence = {:.2f}'.format(r['scores'][i]), (x_1, y_1), cv2.FONT_HERSHEY_SIMPLEX,\n",
    "        fontScale, color, thickness, cv2.LINE_AA)\n",
    "\n",
    "        print(r['scores'][i])\n",
    "        width = x2 - x1 \n",
    "        height = y2 - y1 \n",
    "    #plt.imshow(image, cmap=plt.cm.gist_gray)\n",
    "    \n",
    "    file_name = '{}_detected.png'.format(image_id.split(\".dicom\")[0])\n",
    "\n",
    "    return results[0]['scores'], file_name, image\n",
    "    #return results\n",
    "#visualize()"
   ]
  },
  {
   "cell_type": "code",
   "execution_count": 42,
   "metadata": {},
   "outputs": [],
   "source": [
    "def make_preds():\n",
    "    test_predictions, file_name, image =  predict(ORIG_SIZE = 1024)\n",
    "    status = 'detected.'\n",
    "    if test_predictions[0] > 0.4:\n",
    "\n",
    "        status = 'detected.'\n",
    "        print(f'Pneumonia positive detected with confidence of: {test_predictions[0]}')\n",
    "        cv2.imwrite(file_name, image)\n",
    "        plt.figure() \n",
    "        plt.imshow(image, cmap=plt.cm.gist_gray)\n",
    "        plt.axis('off')\n",
    "    else:\n",
    "        status = 'not detected.'\n",
    "        print('Pneumonia not detected')\n",
    "        cv2.imwrite(file_name, image)\n",
    "        plt.figure() \n",
    "        plt.imshow(image, cmap=plt.cm.gist_gray)\n",
    "        plt.axis('off')\n",
    "    return "
   ]
  },
  {
   "cell_type": "code",
   "execution_count": 43,
   "metadata": {},
   "outputs": [
    {
     "name": "stdout",
     "output_type": "stream",
     "text": [
      "(1024, 1024, 3)\n",
      "(256, 256, 3)\n",
      "(1024, 1024, 3)\n",
      "0.9427576\n",
      "0.9048179\n",
      "Pneumonia positive detected with confidence of: 0.9427576065063477\n"
     ]
    },
    {
     "data": {
      "image/png": "[encoded data removed]",
      "text/plain": [
       "<Figure size 432x288 with 1 Axes>"
      ]
     },
     "metadata": {
      "needs_background": "light"
     },
     "output_type": "display_data"
    }
   ],
   "source": [
    "make_preds()"
   ]
  },
  {
   "cell_type": "code",
   "execution_count": null,
   "metadata": {},
   "outputs": [],
   "source": [
    "l=predict()"
   ]
  },
  {
   "cell_type": "code",
   "execution_count": 30,
   "metadata": {},
   "outputs": [
    {
     "data": {
      "text/plain": [
       "{'rois': array([[121,  71, 154, 117],\n",
       "        [123, 155, 167, 191]], dtype=int32),\n",
       " 'class_ids': array([1, 1], dtype=int32),\n",
       " 'scores': array([0.9427576, 0.9048179], dtype=float32),\n",
       " 'masks': array([[[False, False],\n",
       "         [False, False],\n",
       "         [False, False],\n",
       "         ...,\n",
       "         [False, False],\n",
       "         [False, False],\n",
       "         [False, False]],\n",
       " \n",
       "        [[False, False],\n",
       "         [False, False],\n",
       "         [False, False],\n",
       "         ...,\n",
       "         [False, False],\n",
       "         [False, False],\n",
       "         [False, False]],\n",
       " \n",
       "        [[False, False],\n",
       "         [False, False],\n",
       "         [False, False],\n",
       "         ...,\n",
       "         [False, False],\n",
       "         [False, False],\n",
       "         [False, False]],\n",
       " \n",
       "        ...,\n",
       " \n",
       "        [[False, False],\n",
       "         [False, False],\n",
       "         [False, False],\n",
       "         ...,\n",
       "         [False, False],\n",
       "         [False, False],\n",
       "         [False, False]],\n",
       " \n",
       "        [[False, False],\n",
       "         [False, False],\n",
       "         [False, False],\n",
       "         ...,\n",
       "         [False, False],\n",
       "         [False, False],\n",
       "         [False, False]],\n",
       " \n",
       "        [[False, False],\n",
       "         [False, False],\n",
       "         [False, False],\n",
       "         ...,\n",
       "         [False, False],\n",
       "         [False, False],\n",
       "         [False, False]]])}"
      ]
     },
     "execution_count": 30,
     "metadata": {},
     "output_type": "execute_result"
    }
   ],
   "source": [
    "l[0]"
   ]
  },
  {
   "cell_type": "code",
   "execution_count": null,
   "metadata": {},
   "outputs": [],
   "source": []
  }
 ],
 "metadata": {
  "kernelspec": {
   "display_name": "rcnn_test",
   "language": "python",
   "name": "rcnn_test"
  },
  "language_info": {
   "codemirror_mode": {
    "name": "ipython",
    "version": 3
   },
   "file_extension": ".py",
   "mimetype": "text/x-python",
   "name": "python",
   "nbconvert_exporter": "python",
   "pygments_lexer": "ipython3",
   "version": "3.7.6"
  }
 },
 "nbformat": 4,
 "nbformat_minor": 4
}
